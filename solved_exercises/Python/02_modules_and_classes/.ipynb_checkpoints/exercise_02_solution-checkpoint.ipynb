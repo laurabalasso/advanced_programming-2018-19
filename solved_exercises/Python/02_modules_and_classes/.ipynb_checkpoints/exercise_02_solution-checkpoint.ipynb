{
 "cells": [
  {
   "cell_type": "code",
   "execution_count": 24,
   "metadata": {},
   "outputs": [
    {
     "name": "stdout",
     "output_type": "stream",
     "text": [
      "The Zen of Python, by Tim Peters\n",
      "\n",
      "Beautiful is better than ugly.\n",
      "Explicit is better than implicit.\n",
      "Simple is better than complex.\n",
      "Complex is better than complicated.\n",
      "Flat is better than nested.\n",
      "Sparse is better than dense.\n",
      "Readability counts.\n",
      "Special cases aren't special enough to break the rules.\n",
      "Although practicality beats purity.\n",
      "Errors should never pass silently.\n",
      "Unless explicitly silenced.\n",
      "In the face of ambiguity, refuse the temptation to guess.\n",
      "There should be one-- and preferably only one --obvious way to do it.\n",
      "Although that way may not be obvious at first unless you're Dutch.\n",
      "Now is better than never.\n",
      "Although never is often better than *right* now.\n",
      "If the implementation is hard to explain, it's a bad idea.\n",
      "If the implementation is easy to explain, it may be a good idea.\n",
      "Namespaces are one honking great idea -- let's do more of those!\n"
     ]
    }
   ],
   "source": [
    "import this \n",
    "import antigravity"
   ]
  },
  {
   "cell_type": "code",
   "execution_count": null,
   "metadata": {},
   "outputs": [],
   "source": [
    "def reverse_list(str_list):\n",
    "    return sorted(str_list, key=(lambda x : ''.join(reversed(x))))"
   ]
  },
  {
   "cell_type": "code",
   "execution_count": 25,
   "metadata": {},
   "outputs": [
    {
     "data": {
      "text/plain": [
       "['Laura', 'Eric', 'David', 'Mike', 'Justin', 'Hillary']"
      ]
     },
     "execution_count": 25,
     "metadata": {},
     "output_type": "execute_result"
    }
   ],
   "source": [
    "l = [\"Mike\", \"Justin\", \"Laura\", \"Eric\", \"David\", \"Hillary\" ]\n",
    "reverse_list(l)"
   ]
  },
  {
   "cell_type": "code",
   "execution_count": 9,
   "metadata": {},
   "outputs": [],
   "source": [
    "import copy\n",
    "class Sequence():\n",
    "    def __init__(self, components):\n",
    "        self._components = list(copy.deepcopy(components))\n",
    "        \n",
    "    def __len__(self):\n",
    "        return len(self._components)\n",
    "    \n",
    "    def __iter__(self):\n",
    "        return iter(self._components)\n",
    "    \n",
    "    def __getitem__(self,index):\n",
    "        return self._components[index]\n",
    "    \n",
    "    def __eq__(self,other):\n",
    "        return len(self) == len(other) and all(a==b for a,b in zip(self,other))\n",
    "        #return self._components == other._components # would be sufficient\n",
    "    \n",
    "    def __delitem__(self,index):\n",
    "        del self._components[index]\n",
    "    \n",
    "    def __setitem__(self,key,value):\n",
    "        self._components[key] = value\n",
    "    \n",
    "    def insert(self, key, value):\n",
    "        self._components.insert(key,value)\n",
    "        \n",
    "    def append(self, value):\n",
    "        self._components.append(value)\n",
    "        \n",
    "    def __str__(self):\n",
    "        return str(self._components)\n",
    "    \n",
    "    def __copy__(self):\n",
    "        return copy.deepcopy(self._components)"
   ]
  },
  {
   "cell_type": "code",
   "execution_count": 23,
   "metadata": {},
   "outputs": [
    {
     "name": "stdout",
     "output_type": "stream",
     "text": [
      "length of s:  10\n",
      "s is equal Sequence(range(13))?  False\n",
      "Last element of s:  9\n",
      "s =  [1, 2, 4, 5, 6, 7, 8, 9]\n",
      "1 + 2 is  3\n",
      "2 + 2 is  4\n",
      "4 + 2 is  6\n",
      "5 + 2 is  7\n",
      "6 + 2 is  8\n",
      "7 + 2 is  9\n",
      "8 + 2 is  10\n",
      "9 + 2 is  11\n",
      "s =  [1, 2, 11, 4, 5, 6, 7, 8, 9, 12]\n",
      "s and s2 are the same object?  False\n",
      "s and s2 have the same content?  True\n"
     ]
    }
   ],
   "source": [
    "s = Sequence(range(10))\n",
    "print(\"length of s: \" , len(s))\n",
    "print(\"s is equal Sequence(range(13))? \", s == Sequence(range(13)))\n",
    "print(\"Last element of s: \", s[-1])\n",
    "s[0] = 1\n",
    "del s[1:4:2]\n",
    "print(\"s = \", s)\n",
    "for x in s:\n",
    "    print(x , \"+ 2 is \", x+2)\n",
    "s.insert(2,11)\n",
    "s.append(12)\n",
    "print(\"s = \", s)\n",
    "s2 = copy.copy(s)\n",
    "print(\"s and s2 are the same object? \", s2 is s)\n",
    "print(\"s and s2 have the same content? \", s2 == s)"
   ]
  },
  {
   "cell_type": "code",
   "execution_count": null,
   "metadata": {},
   "outputs": [],
   "source": []
  }
 ],
 "metadata": {
  "kernelspec": {
   "display_name": "Python 3",
   "language": "python",
   "name": "python3"
  },
  "language_info": {
   "codemirror_mode": {
    "name": "ipython",
    "version": 3
   },
   "file_extension": ".py",
   "mimetype": "text/x-python",
   "name": "python",
   "nbconvert_exporter": "python",
   "pygments_lexer": "ipython3",
   "version": "3.7.0"
  }
 },
 "nbformat": 4,
 "nbformat_minor": 2
}
