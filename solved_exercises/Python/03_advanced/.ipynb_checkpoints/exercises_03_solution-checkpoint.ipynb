{
 "cells": [
  {
   "cell_type": "code",
   "execution_count": 33,
   "metadata": {},
   "outputs": [],
   "source": [
    "class MyRange():\n",
    "    def __init__(self, first, last, step=1):\n",
    "        self.my_range = range(first, last, step)\n",
    "\n",
    "def myrange(*args):\n",
    "    n_args = len(args)\n",
    "    if n_args not in [1,2,3]:\n",
    "        raise TypeError(\"myrange should have 1, 2 or 3 arguments\")\n",
    "    if n_args==1:\n",
    "        return MyRange(0,args[0]).my_range\n",
    "    elif n_args==2:\n",
    "        return MyRange(args[0],args[1]).my_range\n",
    "    elif n_args==3:\n",
    "        return MyRange(args[0],args[1],args[2]).my_range"
   ]
  },
  {
   "cell_type": "code",
   "execution_count": 18,
   "metadata": {},
   "outputs": [
    {
     "name": "stdout",
     "output_type": "stream",
     "text": [
      "total time:  0.000853247999884843  seconds\n"
     ]
    }
   ],
   "source": [
    "import time\n",
    "\n",
    "class Timer:\n",
    "    def __enter__(self):\n",
    "        self.t = time.perf_counter()\n",
    "\n",
    "    def __exit__(self, ex_type, value, traceback):\n",
    "        tot = time.perf_counter() - self.t\n",
    "        print(\"total time: \", tot, \" seconds\")\n",
    "        \n",
    "\n",
    "def compute_factorial(int_val):\n",
    "    return 1 if int_val<2 else int_val*compute_factorial(int_val-1)\n",
    "\n",
    "\n",
    "with Timer() as timer:\n",
    "    compute_factorial(1000)\n",
    "    \n"
   ]
  },
  {
   "cell_type": "code",
   "execution_count": null,
   "metadata": {},
   "outputs": [],
   "source": []
  }
 ],
 "metadata": {
  "kernelspec": {
   "display_name": "Python 3",
   "language": "python",
   "name": "python3"
  },
  "language_info": {
   "codemirror_mode": {
    "name": "ipython",
    "version": 3
   },
   "file_extension": ".py",
   "mimetype": "text/x-python",
   "name": "python",
   "nbconvert_exporter": "python",
   "pygments_lexer": "ipython3",
   "version": "3.7.0"
  }
 },
 "nbformat": 4,
 "nbformat_minor": 2
}
