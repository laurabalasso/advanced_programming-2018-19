{
 "cells": [
  {
   "cell_type": "code",
   "execution_count": 4,
   "metadata": {},
   "outputs": [],
   "source": [
    "def is_palindrome(string_var):     \n",
    "    '''\n",
    "    returns True if string_var is palindrome, False otherwise\n",
    "    '''\n",
    "    \n",
    "    return string_var == ''.join(reversed(string_var)) \n"
   ]
  },
  {
   "cell_type": "code",
   "execution_count": 6,
   "metadata": {},
   "outputs": [],
   "source": [
    "def histogram_letters(string_var):     \n",
    "    '''\n",
    "    count how many times a letter is present in the string_var\n",
    "    and returns a dict\n",
    "\n",
    "    '''\n",
    "    \n",
    "    d = {}\n",
    "    l = list(string_var)\n",
    "    for i in range(len(l)-1):\n",
    "        if l[i] not in d:\n",
    "            d[l[i]] = 1\n",
    "        else:\n",
    "            d[l[i]] += 1\n",
    "    \n",
    "    return d "
   ]
  },
  {
   "cell_type": "code",
   "execution_count": 9,
   "metadata": {},
   "outputs": [],
   "source": [
    "def get_most_frequent(list_var):\n",
    "    '''\n",
    "    returns a tuple with the most frequent object in the list with the \n",
    "    corresponing number\n",
    "    '''\n",
    "    d = histogram_letters(list_var)\n",
    "    k = sorted(d, key = d.get)[-1]  \n",
    "    \n",
    "    return k, d[k]\n"
   ]
  },
  {
   "cell_type": "code",
   "execution_count": 19,
   "metadata": {},
   "outputs": [],
   "source": [
    "def which_duplicates(list_var):\n",
    "    '''\n",
    "    return a dict with containing the repeted object and the number of repetitions\n",
    "    '''\n",
    "    dict = histogram_letters(list_var)\n",
    "    new_dict = {}\n",
    "    \n",
    "    for key in dict:\n",
    "        if dict[key] > 1:\n",
    "            new_dict[key] = dict[key]\n",
    "    return new_dict"
   ]
  },
  {
   "cell_type": "code",
   "execution_count": 11,
   "metadata": {},
   "outputs": [],
   "source": [
    "def compute_factorial(int_val):\n",
    "    '''\n",
    "    returns factorial of a number\n",
    "    '''\n",
    "  \n",
    "    return 1 if int_val<2 else int_val*compute_factorial(int_val-1)\n",
    "\n"
   ]
  },
  {
   "cell_type": "code",
   "execution_count": 55,
   "metadata": {},
   "outputs": [],
   "source": [
    "def is_prime(int_val):\n",
    "    '''\n",
    "    returns True if int_val is prime, False otherwise\n",
    "    '''\n",
    "    ret = True\n",
    "    for i in range(2, int_val-1):\n",
    "            if int_val%i == 0:\n",
    "                ret= False\n",
    "                break\n",
    "   \n",
    "    return ret\n",
    "\n"
   ]
  },
  {
   "cell_type": "code",
   "execution_count": null,
   "metadata": {},
   "outputs": [],
   "source": []
  }
 ],
 "metadata": {
  "kernelspec": {
   "display_name": "Python 3",
   "language": "python",
   "name": "python3"
  },
  "language_info": {
   "codemirror_mode": {
    "name": "ipython",
    "version": 3
   },
   "file_extension": ".py",
   "mimetype": "text/x-python",
   "name": "python",
   "nbconvert_exporter": "python",
   "pygments_lexer": "ipython3",
   "version": "3.7.0"
  }
 },
 "nbformat": 4,
 "nbformat_minor": 2
}
